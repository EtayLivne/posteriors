{
 "cells": [
  {
   "cell_type": "code",
   "execution_count": null,
   "metadata": {},
   "outputs": [],
   "source": [
    "import json, os\n",
    "\n",
    "with open(\"/home/paperspace/Projects/posteriors/datasets/tqa_train_val_test/test/tqa_v2_test.json\") as f:\n",
    "    qa_doc = json.load(f)"
   ]
  },
  {
   "cell_type": "code",
   "execution_count": null,
   "metadata": {},
   "outputs": [],
   "source": [
    "qa_doc[0].keys()"
   ]
  },
  {
   "cell_type": "code",
   "execution_count": null,
   "metadata": {},
   "outputs": [],
   "source": [
    "from collections import Counter\n",
    "counter = Counter([d[\"lessonName\"] for d in qa_doc])\n",
    "set(counter.keys())"
   ]
  },
  {
   "cell_type": "code",
   "execution_count": null,
   "metadata": {},
   "outputs": [],
   "source": [
    "# lessons = {}\n",
    "for idx, concept in enumerate(qa_doc):\n",
    "    # print(concept[\"lessonName\"])\n",
    "    # for key, val in concept[\"adjunctTopics\"].items():\n",
    "    #     if key.upper() != \"VOCABULARY\":\n",
    "    #         print(key.upper(), val[\"content\"][\"text\"])\n",
    "    #     else:\n",
    "    #         print(key.upper(), val)\n",
    "    for key, val in concept[\"topics\"].items():\n",
    "        print(key, val[\"content\"][\"text\"])\n",
    "    # lessons[concept_name] = lessons.get(concept_name, 0) + 1\n",
    "    print()\n",
    "    \n",
    "    break\n",
    "\n",
    "# lessons"
   ]
  }
 ],
 "metadata": {
  "language_info": {
   "name": "python"
  }
 },
 "nbformat": 4,
 "nbformat_minor": 2
}
