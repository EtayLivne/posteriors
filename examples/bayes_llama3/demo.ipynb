{
 "cells": [
  {
   "cell_type": "code",
   "execution_count": 1,
   "metadata": {},
   "outputs": [],
   "source": [
    "import torch\n",
    "import re\n",
    "import os\n",
    "\n",
    "def load_ensemble(filepaths):\n",
    "    def load_from_checkpoint(idx, filepath):\n",
    "        parameters = torch.load(filepath)[\"state_dict\"][\"bayesian_layer\"].params\n",
    "        parameters = {\n",
    "            re.sub(r\"model\\.layers\\.\\d+\\.\", \"\", k): v\n",
    "            for k, v in parameters.items()\n",
    "            if v.numel() > 0\n",
    "        }\n",
    "        return parameters\n",
    "\n",
    "    return [\n",
    "        load_from_checkpoint(idx, filepath) for idx, filepath in enumerate(filepaths)\n",
    "    ]\n",
    "\n",
    "\n",
    "folder = \"logs/bayes_instruct_with_seq/usable_checkpoints\"\n",
    "parameters = load_ensemble(\n",
    "    [os.path.join(folder, ckpt) for ckpt in os.listdir(folder)]\n",
    ")"
   ]
  },
  {
   "cell_type": "code",
   "execution_count": 2,
   "metadata": {},
   "outputs": [
    {
     "name": "stderr",
     "output_type": "stream",
     "text": [
      "/home/paperspace/miniconda/envs/posteriors/lib/python3.11/site-packages/tqdm/auto.py:21: TqdmWarning: IProgress not found. Please update jupyter and ipywidgets. See https://ipywidgets.readthedocs.io/en/stable/user_install.html\n",
      "  from .autonotebook import tqdm as notebook_tqdm\n",
      "Loading checkpoint shards: 100%|██████████| 4/4 [00:04<00:00,  1.04s/it]\n",
      "Some weights of BayesLlamaForCausalLM were not initialized from the model checkpoint at Meta-Llama-3-8B-Instruct and are newly initialized: ['model.bayesian_layers.0.input_layernorm.weight', 'model.bayesian_layers.0.mlp.down_proj.weight', 'model.bayesian_layers.0.mlp.gate_proj.weight', 'model.bayesian_layers.0.mlp.up_proj.weight', 'model.bayesian_layers.0.post_attention_layernorm.weight', 'model.bayesian_layers.0.self_attn.k_proj.weight', 'model.bayesian_layers.0.self_attn.o_proj.weight', 'model.bayesian_layers.0.self_attn.q_proj.weight', 'model.bayesian_layers.0.self_attn.v_proj.weight', 'model.bayesian_layers.1.input_layernorm.weight', 'model.bayesian_layers.1.mlp.down_proj.weight', 'model.bayesian_layers.1.mlp.gate_proj.weight', 'model.bayesian_layers.1.mlp.up_proj.weight', 'model.bayesian_layers.1.post_attention_layernorm.weight', 'model.bayesian_layers.1.self_attn.k_proj.weight', 'model.bayesian_layers.1.self_attn.o_proj.weight', 'model.bayesian_layers.1.self_attn.q_proj.weight', 'model.bayesian_layers.1.self_attn.v_proj.weight', 'model.bayesian_layers.2.input_layernorm.weight', 'model.bayesian_layers.2.mlp.down_proj.weight', 'model.bayesian_layers.2.mlp.gate_proj.weight', 'model.bayesian_layers.2.mlp.up_proj.weight', 'model.bayesian_layers.2.post_attention_layernorm.weight', 'model.bayesian_layers.2.self_attn.k_proj.weight', 'model.bayesian_layers.2.self_attn.o_proj.weight', 'model.bayesian_layers.2.self_attn.q_proj.weight', 'model.bayesian_layers.2.self_attn.v_proj.weight', 'model.bayesian_layers.3.input_layernorm.weight', 'model.bayesian_layers.3.mlp.down_proj.weight', 'model.bayesian_layers.3.mlp.gate_proj.weight', 'model.bayesian_layers.3.mlp.up_proj.weight', 'model.bayesian_layers.3.post_attention_layernorm.weight', 'model.bayesian_layers.3.self_attn.k_proj.weight', 'model.bayesian_layers.3.self_attn.o_proj.weight', 'model.bayesian_layers.3.self_attn.q_proj.weight', 'model.bayesian_layers.3.self_attn.v_proj.weight', 'model.bayesian_layers.4.input_layernorm.weight', 'model.bayesian_layers.4.mlp.down_proj.weight', 'model.bayesian_layers.4.mlp.gate_proj.weight', 'model.bayesian_layers.4.mlp.up_proj.weight', 'model.bayesian_layers.4.post_attention_layernorm.weight', 'model.bayesian_layers.4.self_attn.k_proj.weight', 'model.bayesian_layers.4.self_attn.o_proj.weight', 'model.bayesian_layers.4.self_attn.q_proj.weight', 'model.bayesian_layers.4.self_attn.v_proj.weight', 'model.bayesian_layers.5.input_layernorm.weight', 'model.bayesian_layers.5.mlp.down_proj.weight', 'model.bayesian_layers.5.mlp.gate_proj.weight', 'model.bayesian_layers.5.mlp.up_proj.weight', 'model.bayesian_layers.5.post_attention_layernorm.weight', 'model.bayesian_layers.5.self_attn.k_proj.weight', 'model.bayesian_layers.5.self_attn.o_proj.weight', 'model.bayesian_layers.5.self_attn.q_proj.weight', 'model.bayesian_layers.5.self_attn.v_proj.weight', 'model.bayesian_layers.6.input_layernorm.weight', 'model.bayesian_layers.6.mlp.down_proj.weight', 'model.bayesian_layers.6.mlp.gate_proj.weight', 'model.bayesian_layers.6.mlp.up_proj.weight', 'model.bayesian_layers.6.post_attention_layernorm.weight', 'model.bayesian_layers.6.self_attn.k_proj.weight', 'model.bayesian_layers.6.self_attn.o_proj.weight', 'model.bayesian_layers.6.self_attn.q_proj.weight', 'model.bayesian_layers.6.self_attn.v_proj.weight', 'model.bayesian_layers.7.input_layernorm.weight', 'model.bayesian_layers.7.mlp.down_proj.weight', 'model.bayesian_layers.7.mlp.gate_proj.weight', 'model.bayesian_layers.7.mlp.up_proj.weight', 'model.bayesian_layers.7.post_attention_layernorm.weight', 'model.bayesian_layers.7.self_attn.k_proj.weight', 'model.bayesian_layers.7.self_attn.o_proj.weight', 'model.bayesian_layers.7.self_attn.q_proj.weight', 'model.bayesian_layers.7.self_attn.v_proj.weight', 'model.bayesian_layers.8.input_layernorm.weight', 'model.bayesian_layers.8.mlp.down_proj.weight', 'model.bayesian_layers.8.mlp.gate_proj.weight', 'model.bayesian_layers.8.mlp.up_proj.weight', 'model.bayesian_layers.8.post_attention_layernorm.weight', 'model.bayesian_layers.8.self_attn.k_proj.weight', 'model.bayesian_layers.8.self_attn.o_proj.weight', 'model.bayesian_layers.8.self_attn.q_proj.weight', 'model.bayesian_layers.8.self_attn.v_proj.weight', 'model.bayesian_layers.9.input_layernorm.weight', 'model.bayesian_layers.9.mlp.down_proj.weight', 'model.bayesian_layers.9.mlp.gate_proj.weight', 'model.bayesian_layers.9.mlp.up_proj.weight', 'model.bayesian_layers.9.post_attention_layernorm.weight', 'model.bayesian_layers.9.self_attn.k_proj.weight', 'model.bayesian_layers.9.self_attn.o_proj.weight', 'model.bayesian_layers.9.self_attn.q_proj.weight', 'model.bayesian_layers.9.self_attn.v_proj.weight']\n",
      "You should probably TRAIN this model on a down-stream task to be able to use it for predictions and inference.\n",
      "Loading ensemble weights: 100%|██████████| 10/10 [00:00<00:00, 1924.70it/s]\n"
     ]
    }
   ],
   "source": [
    "%load_ext autoreload\n",
    "%autoreload 2\n",
    "\n",
    "from llama3.modules.bayesllama import BayesLlamaForCausalLM\n",
    "bayes_config = {'n_ensemble': 10}\n",
    "\n",
    "bayes = BayesLlamaForCausalLM.from_pretrained(\"Meta-Llama-3-8B-Instruct\", bayes_config=bayes_config).to(\"cuda:0\")\n",
    "bayes.load_bayesian_layers(parameters)"
   ]
  },
  {
   "cell_type": "code",
   "execution_count": 5,
   "metadata": {},
   "outputs": [
    {
     "name": "stderr",
     "output_type": "stream",
     "text": [
      "Special tokens have been added in the vocabulary, make sure the associated word embeddings are fine-tuned or trained.\n"
     ]
    },
    {
     "data": {
      "text/plain": [
       "torch.Size([1, 5])"
      ]
     },
     "execution_count": 5,
     "metadata": {},
     "output_type": "execute_result"
    }
   ],
   "source": [
    "from transformers import AutoTokenizer\n",
    "\n",
    "tokenizer = AutoTokenizer.from_pretrained(\"Meta-Llama-3-8B-Instruct\")\n",
    "tokenizer.pad_token = tokenizer.eos_token\n",
    "tokenizer.padding_side = \"left\"\n",
    "\n",
    "inputs = \"This is a test\"\n",
    "inputs = tokenizer(inputs, return_tensors=\"pt\")\n",
    "\n",
    "inputs.input_ids.shape"
   ]
  },
  {
   "cell_type": "code",
   "execution_count": 7,
   "metadata": {},
   "outputs": [
    {
     "name": "stdout",
     "output_type": "stream",
     "text": [
      "['\\nAnswer the following multiple choice question.\\nSteps of the scientific method include all of the following except\\na. doing background research.\\nb. constructing a hypothesis.\\nc. asking a question.\\nd. proving a theory.\\nAnswer:\\n', '\\nAnswer the following multiple choice question.\\nAll birds build nests the same way.\\na. true\\nb. false\\nAnswer:\\n', '\\nAnswer the following multiple choice question.\\nIf the results of an experiment disprove a hypothesis, then the\\na. results should not be reported.\\nb. hypothesis is just a theory.\\nc. data must contain errors.\\nd. none of the above\\nAnswer:\\n']\n"
     ]
    },
    {
     "data": {
      "text/plain": [
       "['d', 'b', 'c. data must contain errors.  (The']"
      ]
     },
     "execution_count": 7,
     "metadata": {},
     "output_type": "execute_result"
    }
   ],
   "source": [
    "@torch.no_grad()\n",
    "def generate(model, inputs, max_length=10, use_cache=True):\n",
    "    seq_out = []\n",
    "    for idx in range(max_length):\n",
    "        outputs = model(**inputs, return_dict=False, use_cache=use_cache)\n",
    "\n",
    "        if \"attention_mask\" in inputs:\n",
    "            del inputs[\"attention_mask\"]\n",
    "\n",
    "        next_token = outputs[0][0][:, -1].argmax(-1).unsqueeze(-1)\n",
    "        if use_cache:\n",
    "            inputs[\"past_key_values\"] = outputs[1]\n",
    "            inputs[\"ensemble_past_key_values\"] = outputs[2]\n",
    "            inputs[\"input_ids\"] = next_token\n",
    "        else:\n",
    "            inputs[\"input_ids\"] = torch.cat([inputs[\"input_ids\"], next_token], dim=1)\n",
    "        seq_out.append(next_token)\n",
    "\n",
    "    seq_out = torch.cat(seq_out, -1)\n",
    "    return tokenizer.batch_decode(seq_out, skip_special_tokens=True)\n",
    "\n",
    "# inputs = \"This is a test\"\n",
    "inputs_a = \"\"\"\n",
    "Answer the following multiple choice question.\n",
    "Steps of the scientific method include all of the following except\n",
    "a. doing background research.\n",
    "b. constructing a hypothesis.\n",
    "c. asking a question.\n",
    "d. proving a theory.\n",
    "Answer:\n",
    "\"\"\"\n",
    "inputs_b = \"\"\"\n",
    "Answer the following multiple choice question.\n",
    "All birds build nests the same way.\n",
    "a. true\n",
    "b. false\n",
    "Answer:\n",
    "\"\"\"\n",
    "inputs_c = \"\"\"\n",
    "Answer the following multiple choice question.\n",
    "If the results of an experiment disprove a hypothesis, then the\n",
    "a. results should not be reported.\n",
    "b. hypothesis is just a theory.\n",
    "c. data must contain errors.\n",
    "d. none of the above\n",
    "Answer:\n",
    "\"\"\"\n",
    "\n",
    "inputs = [inputs_a, inputs_b, inputs_c]\n",
    "print(inputs)\n",
    "inputs = tokenizer(inputs, padding=True, return_tensors=\"pt\")\n",
    "generate(bayes, inputs.to(\"cuda\"), use_cache=True)"
   ]
  },
  {
   "cell_type": "code",
   "execution_count": null,
   "metadata": {},
   "outputs": [],
   "source": []
  }
 ],
 "metadata": {
  "kernelspec": {
   "display_name": "uq",
   "language": "python",
   "name": "python3"
  },
  "language_info": {
   "codemirror_mode": {
    "name": "ipython",
    "version": 3
   },
   "file_extension": ".py",
   "mimetype": "text/x-python",
   "name": "python",
   "nbconvert_exporter": "python",
   "pygments_lexer": "ipython3",
   "version": "3.11.9"
  }
 },
 "nbformat": 4,
 "nbformat_minor": 2
}
