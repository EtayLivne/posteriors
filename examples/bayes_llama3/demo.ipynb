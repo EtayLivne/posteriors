{
 "cells": [
  {
   "cell_type": "code",
   "execution_count": 6,
   "metadata": {},
   "outputs": [],
   "source": [
    "import torch\n",
    "\n",
    "def load_ensemble(filepaths):\n",
    "    def load_from_checkpoint(filepath,):\n",
    "        parameters = torch.load(filepath, map_location='cpu')['state_dict']['bayesian_layer'].params\n",
    "        parameters = {k:v.detach().numpy().tolist() for k,v in parameters.items() if v.numel()>0 and v.shape == (4096, 4096)}\n",
    "        return parameters\n",
    "    return [load_from_checkpoint(filepath) for filepath in filepaths]\n",
    "\n",
    "parameters = load_ensemble(['logs/bayes/checkpoints/epoch=0-step=300.ckpt','logs/bayes/checkpoints/epoch=9-step=3000.ckpt'])"
   ]
  },
  {
   "cell_type": "code",
   "execution_count": 7,
   "metadata": {},
   "outputs": [
    {
     "data": {
      "application/vnd.jupyter.widget-view+json": {
       "model_id": "be84415bf3604ac090a7985783d75cbb",
       "version_major": 2,
       "version_minor": 0
      },
      "text/plain": [
       "Loading checkpoint shards:   0%|          | 0/2 [00:00<?, ?it/s]"
      ]
     },
     "metadata": {},
     "output_type": "display_data"
    }
   ],
   "source": [
    "from examples.bayes_llama3.llama3.modules.bayesllama import BayesLlamaForCausalLM\n",
    "\n",
    "bayes_config = {'n_ensemble':2, 'ensemble_param_layer':-1}\n",
    "bayes = BayesLlamaForCausalLM.from_pretrained(\"meta-llama/Llama-2-7b-hf\", bayes_config=bayes_config).to('cuda:0')"
   ]
  },
  {
   "cell_type": "code",
   "execution_count": 8,
   "metadata": {},
   "outputs": [],
   "source": [
    "bayes.load(bayes_params = parameters)"
   ]
  },
  {
   "cell_type": "code",
   "execution_count": 9,
   "metadata": {},
   "outputs": [],
   "source": [
    "from transformers import AutoTokenizer\n",
    "tokenizer = AutoTokenizer.from_pretrained(\"meta-llama/Llama-2-7b-hf\")\n",
    "\n",
    "inputs = \"This is a test\"\n",
    "inputs = tokenizer(inputs, return_tensors=\"pt\").input_ids"
   ]
  },
  {
   "cell_type": "code",
   "execution_count": 10,
   "metadata": {},
   "outputs": [],
   "source": [
    "out = bayes(inputs.to('cuda:0'), return_dict=True)"
   ]
  },
  {
   "cell_type": "code",
   "execution_count": null,
   "metadata": {},
   "outputs": [],
   "source": []
  }
 ],
 "metadata": {
  "kernelspec": {
   "display_name": "uq",
   "language": "python",
   "name": "python3"
  },
  "language_info": {
   "codemirror_mode": {
    "name": "ipython",
    "version": 3
   },
   "file_extension": ".py",
   "mimetype": "text/x-python",
   "name": "python",
   "nbconvert_exporter": "python",
   "pygments_lexer": "ipython3",
   "version": "3.11.8"
  }
 },
 "nbformat": 4,
 "nbformat_minor": 2
}
