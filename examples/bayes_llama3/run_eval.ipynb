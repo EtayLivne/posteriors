{
 "cells": [
  {
   "cell_type": "code",
   "execution_count": 1,
   "metadata": {},
   "outputs": [
    {
     "name": "stderr",
     "output_type": "stream",
     "text": [
      "/home/paperspace/miniconda/envs/posteriors/lib/python3.11/site-packages/tqdm/auto.py:21: TqdmWarning: IProgress not found. Please update jupyter and ipywidgets. See https://ipywidgets.readthedocs.io/en/stable/user_install.html\n",
      "  from .autonotebook import tqdm as notebook_tqdm\n",
      "Special tokens have been added in the vocabulary, make sure the associated word embeddings are fine-tuned or trained.\n",
      "Loading checkpoint shards: 100%|██████████| 4/4 [00:04<00:00,  1.01s/it]\n",
      "Some weights of BayesLlamaForCausalLM were not initialized from the model checkpoint at Meta-Llama-3-8B and are newly initialized: ['model.bayesian_layers.0.input_layernorm.weight', 'model.bayesian_layers.0.mlp.down_proj.weight', 'model.bayesian_layers.0.mlp.gate_proj.weight', 'model.bayesian_layers.0.mlp.up_proj.weight', 'model.bayesian_layers.0.post_attention_layernorm.weight', 'model.bayesian_layers.0.self_attn.k_proj.weight', 'model.bayesian_layers.0.self_attn.o_proj.weight', 'model.bayesian_layers.0.self_attn.q_proj.weight', 'model.bayesian_layers.0.self_attn.v_proj.weight', 'model.bayesian_layers.1.input_layernorm.weight', 'model.bayesian_layers.1.mlp.down_proj.weight', 'model.bayesian_layers.1.mlp.gate_proj.weight', 'model.bayesian_layers.1.mlp.up_proj.weight', 'model.bayesian_layers.1.post_attention_layernorm.weight', 'model.bayesian_layers.1.self_attn.k_proj.weight', 'model.bayesian_layers.1.self_attn.o_proj.weight', 'model.bayesian_layers.1.self_attn.q_proj.weight', 'model.bayesian_layers.1.self_attn.v_proj.weight', 'model.bayesian_layers.2.input_layernorm.weight', 'model.bayesian_layers.2.mlp.down_proj.weight', 'model.bayesian_layers.2.mlp.gate_proj.weight', 'model.bayesian_layers.2.mlp.up_proj.weight', 'model.bayesian_layers.2.post_attention_layernorm.weight', 'model.bayesian_layers.2.self_attn.k_proj.weight', 'model.bayesian_layers.2.self_attn.o_proj.weight', 'model.bayesian_layers.2.self_attn.q_proj.weight', 'model.bayesian_layers.2.self_attn.v_proj.weight', 'model.bayesian_layers.3.input_layernorm.weight', 'model.bayesian_layers.3.mlp.down_proj.weight', 'model.bayesian_layers.3.mlp.gate_proj.weight', 'model.bayesian_layers.3.mlp.up_proj.weight', 'model.bayesian_layers.3.post_attention_layernorm.weight', 'model.bayesian_layers.3.self_attn.k_proj.weight', 'model.bayesian_layers.3.self_attn.o_proj.weight', 'model.bayesian_layers.3.self_attn.q_proj.weight', 'model.bayesian_layers.3.self_attn.v_proj.weight', 'model.bayesian_layers.4.input_layernorm.weight', 'model.bayesian_layers.4.mlp.down_proj.weight', 'model.bayesian_layers.4.mlp.gate_proj.weight', 'model.bayesian_layers.4.mlp.up_proj.weight', 'model.bayesian_layers.4.post_attention_layernorm.weight', 'model.bayesian_layers.4.self_attn.k_proj.weight', 'model.bayesian_layers.4.self_attn.o_proj.weight', 'model.bayesian_layers.4.self_attn.q_proj.weight', 'model.bayesian_layers.4.self_attn.v_proj.weight', 'model.bayesian_layers.5.input_layernorm.weight', 'model.bayesian_layers.5.mlp.down_proj.weight', 'model.bayesian_layers.5.mlp.gate_proj.weight', 'model.bayesian_layers.5.mlp.up_proj.weight', 'model.bayesian_layers.5.post_attention_layernorm.weight', 'model.bayesian_layers.5.self_attn.k_proj.weight', 'model.bayesian_layers.5.self_attn.o_proj.weight', 'model.bayesian_layers.5.self_attn.q_proj.weight', 'model.bayesian_layers.5.self_attn.v_proj.weight', 'model.bayesian_layers.6.input_layernorm.weight', 'model.bayesian_layers.6.mlp.down_proj.weight', 'model.bayesian_layers.6.mlp.gate_proj.weight', 'model.bayesian_layers.6.mlp.up_proj.weight', 'model.bayesian_layers.6.post_attention_layernorm.weight', 'model.bayesian_layers.6.self_attn.k_proj.weight', 'model.bayesian_layers.6.self_attn.o_proj.weight', 'model.bayesian_layers.6.self_attn.q_proj.weight', 'model.bayesian_layers.6.self_attn.v_proj.weight', 'model.bayesian_layers.7.input_layernorm.weight', 'model.bayesian_layers.7.mlp.down_proj.weight', 'model.bayesian_layers.7.mlp.gate_proj.weight', 'model.bayesian_layers.7.mlp.up_proj.weight', 'model.bayesian_layers.7.post_attention_layernorm.weight', 'model.bayesian_layers.7.self_attn.k_proj.weight', 'model.bayesian_layers.7.self_attn.o_proj.weight', 'model.bayesian_layers.7.self_attn.q_proj.weight', 'model.bayesian_layers.7.self_attn.v_proj.weight', 'model.bayesian_layers.8.input_layernorm.weight', 'model.bayesian_layers.8.mlp.down_proj.weight', 'model.bayesian_layers.8.mlp.gate_proj.weight', 'model.bayesian_layers.8.mlp.up_proj.weight', 'model.bayesian_layers.8.post_attention_layernorm.weight', 'model.bayesian_layers.8.self_attn.k_proj.weight', 'model.bayesian_layers.8.self_attn.o_proj.weight', 'model.bayesian_layers.8.self_attn.q_proj.weight', 'model.bayesian_layers.8.self_attn.v_proj.weight', 'model.bayesian_layers.9.input_layernorm.weight', 'model.bayesian_layers.9.mlp.down_proj.weight', 'model.bayesian_layers.9.mlp.gate_proj.weight', 'model.bayesian_layers.9.mlp.up_proj.weight', 'model.bayesian_layers.9.post_attention_layernorm.weight', 'model.bayesian_layers.9.self_attn.k_proj.weight', 'model.bayesian_layers.9.self_attn.o_proj.weight', 'model.bayesian_layers.9.self_attn.q_proj.weight', 'model.bayesian_layers.9.self_attn.v_proj.weight']\n",
      "You should probably TRAIN this model on a down-stream task to be able to use it for predictions and inference.\n",
      "Loading ensemble weights: 100%|██████████| 10/10 [00:00<00:00, 13.71it/s]\n"
     ]
    }
   ],
   "source": [
    "%load_ext autoreload\n",
    "%autoreload 2\n",
    "\n",
    "import datetime\n",
    "\n",
    "from llama3.eval import Experiment\n",
    "from llama3.utils.load_utils import load_config, save_config, setup_log_dir\n",
    "\n",
    "config = load_config(\"configs/bayes_eval.yaml\")\n",
    "timestamp = datetime.datetime.now().strftime(\"%Y-%m-%dT%H-%M-%S\")\n",
    "\n",
    "experiment_log_dir = setup_log_dir(\n",
    "    config.get(\"logs_dir\", \"experiment_logs\"),\n",
    "    timestamp,\n",
    "    experiment_name=config.get(\"experiment_name\", None),\n",
    ")\n",
    "\n",
    "config[\"experiment_config\"][\"experiment_log_dir\"] = experiment_log_dir\n",
    "save_config(config.to_dict(), experiment_log_dir + \"/config.yaml\")\n",
    "\n",
    "experiment = Experiment(config[\"experiment_config\"])"
   ]
  },
  {
   "cell_type": "code",
   "execution_count": 2,
   "metadata": {},
   "outputs": [
    {
     "name": "stderr",
     "output_type": "stream",
     "text": [
      "  0%|          | 1/210 [00:12<42:05, 12.08s/it]"
     ]
    }
   ],
   "source": [
    "experiment.run(config[\"dataset_path\"])"
   ]
  },
  {
   "cell_type": "code",
   "execution_count": null,
   "metadata": {},
   "outputs": [],
   "source": []
  }
 ],
 "metadata": {
  "kernelspec": {
   "display_name": "posteriors",
   "language": "python",
   "name": "python3"
  },
  "language_info": {
   "codemirror_mode": {
    "name": "ipython",
    "version": 3
   },
   "file_extension": ".py",
   "mimetype": "text/x-python",
   "name": "python",
   "nbconvert_exporter": "python",
   "pygments_lexer": "ipython3",
   "version": "3.11.9"
  }
 },
 "nbformat": 4,
 "nbformat_minor": 2
}
